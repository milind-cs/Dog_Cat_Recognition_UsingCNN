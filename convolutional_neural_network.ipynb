{
  "cells": [
    {
      "cell_type": "markdown",
      "metadata": {
        "colab_type": "text",
        "id": "3DR-eO17geWu"
      },
      "source": [
        "# Convolutional Neural Network"
      ]
    },
    {
      "cell_type": "markdown",
      "metadata": {
        "colab_type": "text",
        "id": "EMefrVPCg-60"
      },
      "source": [
        "### Importing the libraries"
      ]
    },
    {
      "cell_type": "code",
      "execution_count": 67,
      "metadata": {
        "colab": {},
        "colab_type": "code",
        "id": "sCV30xyVhFbE"
      },
      "outputs": [],
      "source": [
        "import tensorflow as tf\n",
        "from keras.preprocessing.image import ImageDataGenerator"
      ]
    },
    {
      "cell_type": "code",
      "execution_count": 68,
      "metadata": {
        "colab": {},
        "colab_type": "code",
        "id": "FIleuCAjoFD8"
      },
      "outputs": [
        {
          "data": {
            "text/plain": [
              "'2.13.0-rc1'"
            ]
          },
          "execution_count": 68,
          "metadata": {},
          "output_type": "execute_result"
        }
      ],
      "source": [
        "tf.__version__"
      ]
    },
    {
      "cell_type": "markdown",
      "metadata": {
        "colab_type": "text",
        "id": "oxQxCBWyoGPE"
      },
      "source": [
        "## Part 1 - Data Preprocessing"
      ]
    },
    {
      "cell_type": "markdown",
      "metadata": {
        "colab_type": "text",
        "id": "MvE-heJNo3GG"
      },
      "source": [
        "### Preprocessing the Training set"
      ]
    },
    {
      "cell_type": "code",
      "execution_count": 69,
      "metadata": {
        "colab": {},
        "colab_type": "code",
        "id": "0koUcJMJpEBD"
      },
      "outputs": [
        {
          "name": "stdout",
          "output_type": "stream",
          "text": [
            "Found 8000 images belonging to 2 classes.\n"
          ]
        }
      ],
      "source": [
        "train_datagen = ImageDataGenerator(rescale = 1./255,\n",
        "                                   shear_range = 0.2,\n",
        "                                   zoom_range = 0.2,\n",
        "                                   horizontal_flip = True)\n",
        "training_set = train_datagen.flow_from_directory('dataset/training_set',\n",
        "                                                 target_size = (64, 64),\n",
        "                                                 batch_size = 32,\n",
        "                                                 class_mode = 'binary')"
      ]
    },
    {
      "cell_type": "markdown",
      "metadata": {
        "colab_type": "text",
        "id": "mrCMmGw9pHys"
      },
      "source": [
        "### Preprocessing the Test set"
      ]
    },
    {
      "cell_type": "code",
      "execution_count": 70,
      "metadata": {
        "colab": {},
        "colab_type": "code",
        "id": "SH4WzfOhpKc3"
      },
      "outputs": [
        {
          "name": "stdout",
          "output_type": "stream",
          "text": [
            "Found 2000 images belonging to 2 classes.\n"
          ]
        }
      ],
      "source": [
        "test_datagen = ImageDataGenerator(rescale = 1./255)\n",
        "test_set = test_datagen.flow_from_directory('dataset/test_set',\n",
        "                                            target_size = (64, 64),\n",
        "                                            batch_size = 32,\n",
        "                                            class_mode = 'binary')"
      ]
    },
    {
      "cell_type": "markdown",
      "metadata": {
        "colab_type": "text",
        "id": "af8O4l90gk7B"
      },
      "source": [
        "## Part 2 - Building the CNN"
      ]
    },
    {
      "cell_type": "markdown",
      "metadata": {
        "colab_type": "text",
        "id": "ces1gXY2lmoX"
      },
      "source": [
        "### Initialising the CNN"
      ]
    },
    {
      "cell_type": "code",
      "execution_count": 71,
      "metadata": {
        "colab": {},
        "colab_type": "code",
        "id": "SAUt4UMPlhLS"
      },
      "outputs": [],
      "source": [
        "cnn = tf.keras.models.Sequential()"
      ]
    },
    {
      "cell_type": "markdown",
      "metadata": {
        "colab_type": "text",
        "id": "u5YJj_XMl5LF"
      },
      "source": [
        "### Step 1 - Convolution"
      ]
    },
    {
      "cell_type": "code",
      "execution_count": 72,
      "metadata": {
        "colab": {},
        "colab_type": "code",
        "id": "XPzPrMckl-hV"
      },
      "outputs": [],
      "source": [
        "cnn.add(tf.keras.layers.Conv2D(filters=32, kernel_size=3, activation='relu', input_shape=[64, 64, 3]))"
      ]
    },
    {
      "cell_type": "markdown",
      "metadata": {
        "colab_type": "text",
        "id": "tf87FpvxmNOJ"
      },
      "source": [
        "### Step 2 - Pooling"
      ]
    },
    {
      "cell_type": "code",
      "execution_count": 73,
      "metadata": {
        "colab": {},
        "colab_type": "code",
        "id": "ncpqPl69mOac"
      },
      "outputs": [],
      "source": [
        "cnn.add(tf.keras.layers.MaxPool2D(pool_size=2, strides=2))"
      ]
    },
    {
      "cell_type": "markdown",
      "metadata": {
        "colab_type": "text",
        "id": "xaTOgD8rm4mU"
      },
      "source": [
        "### Adding a second convolutional layer"
      ]
    },
    {
      "cell_type": "code",
      "execution_count": 74,
      "metadata": {
        "colab": {},
        "colab_type": "code",
        "id": "i_-FZjn_m8gk"
      },
      "outputs": [],
      "source": [
        "cnn.add(tf.keras.layers.Conv2D(filters=32, kernel_size=3, activation='relu'))\n",
        "cnn.add(tf.keras.layers.MaxPool2D(pool_size=2, strides=2))"
      ]
    },
    {
      "cell_type": "markdown",
      "metadata": {
        "colab_type": "text",
        "id": "tmiEuvTunKfk"
      },
      "source": [
        "### Step 3 - Flattening"
      ]
    },
    {
      "cell_type": "code",
      "execution_count": 75,
      "metadata": {
        "colab": {},
        "colab_type": "code",
        "id": "6AZeOGCvnNZn"
      },
      "outputs": [],
      "source": [
        "cnn.add(tf.keras.layers.Flatten())"
      ]
    },
    {
      "cell_type": "markdown",
      "metadata": {
        "colab_type": "text",
        "id": "dAoSECOm203v"
      },
      "source": [
        "### Step 4 - Full Connection"
      ]
    },
    {
      "cell_type": "code",
      "execution_count": 76,
      "metadata": {
        "colab": {},
        "colab_type": "code",
        "id": "8GtmUlLd26Nq"
      },
      "outputs": [],
      "source": [
        "cnn.add(tf.keras.layers.Dense(units=128, activation='relu'))"
      ]
    },
    {
      "cell_type": "markdown",
      "metadata": {
        "colab_type": "text",
        "id": "yTldFvbX28Na"
      },
      "source": [
        "### Step 5 - Output Layer"
      ]
    },
    {
      "cell_type": "code",
      "execution_count": 77,
      "metadata": {
        "colab": {},
        "colab_type": "code",
        "id": "1p_Zj1Mc3Ko_"
      },
      "outputs": [],
      "source": [
        "cnn.add(tf.keras.layers.Dense(units=1, activation='sigmoid'))"
      ]
    },
    {
      "cell_type": "markdown",
      "metadata": {
        "colab_type": "text",
        "id": "D6XkI90snSDl"
      },
      "source": [
        "## Part 3 - Training the CNN"
      ]
    },
    {
      "cell_type": "markdown",
      "metadata": {
        "colab_type": "text",
        "id": "vfrFQACEnc6i"
      },
      "source": [
        "### Compiling the CNN"
      ]
    },
    {
      "cell_type": "code",
      "execution_count": 78,
      "metadata": {
        "colab": {},
        "colab_type": "code",
        "id": "NALksrNQpUlJ"
      },
      "outputs": [],
      "source": [
        "cnn.compile(optimizer = 'adam', loss = 'binary_crossentropy', metrics = ['accuracy'])"
      ]
    },
    {
      "cell_type": "markdown",
      "metadata": {
        "colab_type": "text",
        "id": "ehS-v3MIpX2h"
      },
      "source": [
        "### Training the CNN on the Training set and evaluating it on the Test set"
      ]
    },
    {
      "cell_type": "code",
      "execution_count": 79,
      "metadata": {
        "colab": {},
        "colab_type": "code",
        "id": "XUj1W4PJptta"
      },
      "outputs": [
        {
          "name": "stdout",
          "output_type": "stream",
          "text": [
            "Epoch 1/25\n",
            "250/250 [==============================] - 18s 73ms/step - loss: 0.6732 - accuracy: 0.5904 - val_loss: 0.6033 - val_accuracy: 0.6815\n",
            "Epoch 2/25\n",
            "250/250 [==============================] - 18s 71ms/step - loss: 0.6025 - accuracy: 0.6762 - val_loss: 0.5541 - val_accuracy: 0.7175\n",
            "Epoch 3/25\n",
            "250/250 [==============================] - 18s 72ms/step - loss: 0.5625 - accuracy: 0.7050 - val_loss: 0.5524 - val_accuracy: 0.7175\n",
            "Epoch 4/25\n",
            "250/250 [==============================] - 18s 70ms/step - loss: 0.5310 - accuracy: 0.7321 - val_loss: 0.5071 - val_accuracy: 0.7495\n",
            "Epoch 5/25\n",
            "250/250 [==============================] - 15s 61ms/step - loss: 0.5049 - accuracy: 0.7481 - val_loss: 0.4982 - val_accuracy: 0.7555\n",
            "Epoch 6/25\n",
            "250/250 [==============================] - 15s 61ms/step - loss: 0.4855 - accuracy: 0.7656 - val_loss: 0.4758 - val_accuracy: 0.7805\n",
            "Epoch 7/25\n",
            "250/250 [==============================] - 17s 68ms/step - loss: 0.4662 - accuracy: 0.7797 - val_loss: 0.4891 - val_accuracy: 0.7720\n",
            "Epoch 8/25\n",
            "250/250 [==============================] - 16s 64ms/step - loss: 0.4484 - accuracy: 0.7886 - val_loss: 0.4713 - val_accuracy: 0.7780\n",
            "Epoch 9/25\n",
            "250/250 [==============================] - 16s 64ms/step - loss: 0.4366 - accuracy: 0.7958 - val_loss: 0.4731 - val_accuracy: 0.7725\n",
            "Epoch 10/25\n",
            "250/250 [==============================] - 15s 61ms/step - loss: 0.4252 - accuracy: 0.7999 - val_loss: 0.4761 - val_accuracy: 0.7770\n",
            "Epoch 11/25\n",
            "250/250 [==============================] - 16s 62ms/step - loss: 0.4087 - accuracy: 0.8159 - val_loss: 0.4807 - val_accuracy: 0.7830\n",
            "Epoch 12/25\n",
            "250/250 [==============================] - 18s 70ms/step - loss: 0.3976 - accuracy: 0.8198 - val_loss: 0.4765 - val_accuracy: 0.7805\n",
            "Epoch 13/25\n",
            "250/250 [==============================] - 17s 68ms/step - loss: 0.3856 - accuracy: 0.8230 - val_loss: 0.4587 - val_accuracy: 0.8045\n",
            "Epoch 14/25\n",
            "250/250 [==============================] - 17s 68ms/step - loss: 0.3629 - accuracy: 0.8365 - val_loss: 0.5181 - val_accuracy: 0.7780\n",
            "Epoch 15/25\n",
            "250/250 [==============================] - 17s 68ms/step - loss: 0.3571 - accuracy: 0.8416 - val_loss: 0.4708 - val_accuracy: 0.7965\n",
            "Epoch 16/25\n",
            "250/250 [==============================] - 17s 69ms/step - loss: 0.3454 - accuracy: 0.8456 - val_loss: 0.4762 - val_accuracy: 0.7980\n",
            "Epoch 17/25\n",
            "250/250 [==============================] - 17s 68ms/step - loss: 0.3286 - accuracy: 0.8553 - val_loss: 0.4668 - val_accuracy: 0.8140\n",
            "Epoch 18/25\n",
            "250/250 [==============================] - 17s 69ms/step - loss: 0.3199 - accuracy: 0.8600 - val_loss: 0.5165 - val_accuracy: 0.7855\n",
            "Epoch 19/25\n",
            "250/250 [==============================] - 16s 65ms/step - loss: 0.3213 - accuracy: 0.8569 - val_loss: 0.5063 - val_accuracy: 0.8145\n",
            "Epoch 20/25\n",
            "250/250 [==============================] - 16s 65ms/step - loss: 0.2952 - accuracy: 0.8731 - val_loss: 0.5764 - val_accuracy: 0.7755\n",
            "Epoch 21/25\n",
            "250/250 [==============================] - 16s 63ms/step - loss: 0.2800 - accuracy: 0.8774 - val_loss: 0.4886 - val_accuracy: 0.8010\n",
            "Epoch 22/25\n",
            "250/250 [==============================] - 16s 66ms/step - loss: 0.2793 - accuracy: 0.8776 - val_loss: 0.5621 - val_accuracy: 0.7835\n",
            "Epoch 23/25\n",
            "250/250 [==============================] - 16s 64ms/step - loss: 0.2557 - accuracy: 0.8946 - val_loss: 0.5032 - val_accuracy: 0.8065\n",
            "Epoch 24/25\n",
            "250/250 [==============================] - 16s 63ms/step - loss: 0.2382 - accuracy: 0.9043 - val_loss: 0.5274 - val_accuracy: 0.7790\n",
            "Epoch 25/25\n",
            "250/250 [==============================] - 16s 64ms/step - loss: 0.2343 - accuracy: 0.9024 - val_loss: 0.5758 - val_accuracy: 0.8015\n"
          ]
        },
        {
          "data": {
            "text/plain": [
              "<keras.src.callbacks.History at 0x294588520>"
            ]
          },
          "execution_count": 79,
          "metadata": {},
          "output_type": "execute_result"
        }
      ],
      "source": [
        "cnn.fit(x = training_set, validation_data = test_set, epochs = 25)"
      ]
    },
    {
      "cell_type": "markdown",
      "metadata": {
        "colab_type": "text",
        "id": "U3PZasO0006Z"
      },
      "source": [
        "## Part 4 - Making a single prediction"
      ]
    },
    {
      "cell_type": "code",
      "execution_count": 88,
      "metadata": {
        "colab": {},
        "colab_type": "code",
        "id": "gsSiWEJY1BPB"
      },
      "outputs": [
        {
          "name": "stdout",
          "output_type": "stream",
          "text": [
            "1/1 [==============================] - 0s 10ms/step\n"
          ]
        }
      ],
      "source": [
        "import numpy as np\n",
        "from keras.preprocessing import image\n",
        "test_image = image.load_img('dataset/single_prediction/cat_or_dog_2.jpg', target_size = (64, 64))\n",
        "test_image = image.img_to_array(test_image)\n",
        "test_image = np.expand_dims(test_image, axis = 0)\n",
        "result = cnn.predict(test_image)\n",
        "training_set.class_indices\n",
        "if result[0][0] > 0.5:\n",
        "  prediction = 'dog'\n",
        "else:\n",
        "  prediction = 'cat'"
      ]
    },
    {
      "cell_type": "code",
      "execution_count": 89,
      "metadata": {
        "colab": {},
        "colab_type": "code",
        "id": "ED9KB3I54c1i"
      },
      "outputs": [
        {
          "name": "stdout",
          "output_type": "stream",
          "text": [
            "cat\n"
          ]
        }
      ],
      "source": [
        "print(prediction)"
      ]
    }
  ],
  "metadata": {
    "colab": {
      "collapsed_sections": [],
      "name": "convolutional_neural_network.ipynb",
      "provenance": [],
      "toc_visible": true
    },
    "kernelspec": {
      "display_name": "Python 3",
      "name": "python3"
    },
    "language_info": {
      "codemirror_mode": {
        "name": "ipython",
        "version": 3
      },
      "file_extension": ".py",
      "mimetype": "text/x-python",
      "name": "python",
      "nbconvert_exporter": "python",
      "pygments_lexer": "ipython3",
      "version": "3.10.3"
    }
  },
  "nbformat": 4,
  "nbformat_minor": 0
}
